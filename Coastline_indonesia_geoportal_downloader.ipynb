{
 "cells": [
  {
   "cell_type": "markdown",
   "metadata": {},
   "source": [
    "code di bawah ini working saat download bulan Februari 2025. resultrecord count 1000 artinya memotong sedikit demi sedikit sampai agar datanya tidak hilang"
   ]
  },
  {
   "cell_type": "code",
   "execution_count": 2,
   "metadata": {},
   "outputs": [
    {
     "name": "stdout",
     "output_type": "stream",
     "text": [
      "Download complete! Saved as garis_pantai.shp\n"
     ]
    }
   ],
   "source": [
    "import requests\n",
    "import json\n",
    "import geopandas as gpd\n",
    "\n",
    "# Define the ArcGIS REST service URL\n",
    "base_url = \"https://geoservices.big.go.id/rbi/rest/services/GARISPANTAI/GarisPantai_25K/MapServer/0/query\"\n",
    "\n",
    "# Parameters for pagination\n",
    "params = {\n",
    "    \"where\": \"1=1\",  # Get all features\n",
    "    \"outFields\": \"*\",  # Get all fields\n",
    "    \"f\": \"geojson\",  # Output format\n",
    "    \"resultOffset\": 0,  # Start index\n",
    "    \"resultRecordCount\": 1000  # Number of features per request (adjust if needed)\n",
    "}\n",
    "\n",
    "features = []\n",
    "\n",
    "while True:\n",
    "    # Request data\n",
    "    response = requests.get(base_url, params=params)\n",
    "    data = response.json()\n",
    "\n",
    "    # Check if features exist\n",
    "    if \"features\" in data and len(data[\"features\"]) > 0:\n",
    "        features.extend(data[\"features\"])\n",
    "        params[\"resultOffset\"] += params[\"resultRecordCount\"]  # Move to the next batch\n",
    "    else:\n",
    "        break  # Stop when no more features are returned\n",
    "\n",
    "# Save full dataset to GeoJSON\n",
    "full_data = {\"type\": \"FeatureCollection\", \"features\": features}\n",
    "with open(\"garis_pantai.geojson\", \"w\") as f:\n",
    "    json.dump(full_data, f)\n",
    "\n",
    "# Convert GeoJSON to Shapefile using Geopandas\n",
    "gdf = gpd.read_file(\"garis_pantai.geojson\")\n",
    "gdf.to_file(\"garis_pantai.shp\", driver=\"ESRI Shapefile\")\n",
    "\n",
    "print(\"Download complete! Saved as garis_pantai.shp\")\n"
   ]
  },
  {
   "cell_type": "code",
   "execution_count": null,
   "metadata": {},
   "outputs": [],
   "source": [
    "# cara 2 . dari map services ke geojson dan \n",
    "\n",
    "import requests\n",
    "import geopandas as gpd\n",
    "import json\n",
    "\n",
    "# Define ArcGIS REST URL\n",
    "base_url = \"https://geoservices.big.go.id/rbi/rest/services/GARISPANTAI/GarisPantai_25K/MapServer/0/query\"\n",
    "\n",
    "# Query parameters\n",
    "params = {\n",
    "    \"where\": \"1=1\",  # Retrieve all features\n",
    "    \"outFields\": \"*\",  # Get all fields\n",
    "    \"f\": \"geojson\",  # Get as GeoJSON\n",
    "}\n",
    "\n",
    "# Send request\n",
    "response = requests.get(base_url, params=params)\n",
    "data = response.json()\n",
    "\n",
    "# Save as GeoJSON\n",
    "geojson_path = r\"D:\\garis_pantai.geojson\"  # Change to your folder\n",
    "with open(geojson_path, \"w\") as f:\n",
    "    json.dump(data, f)\n",
    "\n",
    "# Convert to Shapefile\n",
    "shp_path = r\"D:\\garis_pantai.shp\"  # Change to your folder\n",
    "gdf = gpd.read_file(geojson_path)\n",
    "gdf.to_file(shp_path, driver=\"ESRI Shapefile\")\n",
    "\n",
    "print(\"Download complete! Saved as garis_pantai.shp\")\n"
   ]
  }
 ],
 "metadata": {
  "kernelspec": {
   "display_name": "base",
   "language": "python",
   "name": "python3"
  },
  "language_info": {
   "codemirror_mode": {
    "name": "ipython",
    "version": 3
   },
   "file_extension": ".py",
   "mimetype": "text/x-python",
   "name": "python",
   "nbconvert_exporter": "python",
   "pygments_lexer": "ipython3",
   "version": "3.11.5"
  }
 },
 "nbformat": 4,
 "nbformat_minor": 2
}
